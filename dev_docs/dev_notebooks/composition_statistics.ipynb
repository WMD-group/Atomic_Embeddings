{
 "cells": [
  {
   "attachments": {},
   "cell_type": "markdown",
   "metadata": {},
   "source": [
    "# Compositional statistics development\n",
    "\n",
    "This notebook is for prototyping the implementation of compositional statistics for the Compositon class.\n"
   ]
  },
  {
   "cell_type": "code",
   "execution_count": 3,
   "metadata": {},
   "outputs": [],
   "source": [
    "import numpy as np\n",
    "from AtomicEmbeddings.composition import CompositionalEmbedding\n",
    "\n",
    "CsPbI3_magpie = CompositionalEmbedding(formula=\"CsPbI3\", embedding=\"magpie\")"
   ]
  },
  {
   "attachments": {},
   "cell_type": "markdown",
   "metadata": {},
   "source": [
    "The statistics we want to implement are:\n",
    "\n",
    "* Weighted mean: $\\bar{x} = \\sum_{i=1}^n w_i x_i$\n",
    "* Weighted sum: $\\sum_{i=1}^n w_i x_i$\n",
    "* Weighted variance: $s^2 = \\sum_{i=1}^n w_i (x_i - \\bar{x})^2$\n",
    "* Min-pooling: $\\min_{i=1}^n x_i$\n",
    "* Max-pooling: $\\max_{i=1}^n x_i$\n",
    "\n",
    "If we consider a ternary compound, $A_aB_bC_c$, we can represent the individual elements with a features of dimension of N, indicated by $f_{A,i}$, $f_{B,i}$ and $f_{C,i}$($i=1,...N$).\n",
    "\n",
    "The statistics can be represented as:\n",
    "\n",
    "* Weighted mean: $f_{mean,i} = a^{*} f_{A,i} + b^{*} f_{B,i} + c^{*} f_{C,i}$\n",
    "* Weighted sum: $f_{sum,i} = a f_{A,i} + b f_{B,i} + c f_{C,i}$\n",
    "* Weighted variance: $f_{var,i} = a^{*} (f_{A,i} - f_{mean,i})^2 + b^{*} (f_{B,i} - f_{mean,i})^2 + c^{*} (f_{C,i} - f_{mean,i})^2$\n",
    "* Min-pooling: $f_{min,i} = \\min(f_{A,i}, f_{B,i}, f_{C,i})$\n",
    "* Max-pooling: $f_{max,i} = \\max(f_{A,i}, f_{B,i}, f_{C,i})$\n",
    "\n",
    "where $a^{*} = \\frac{a}{a+b+c}$, $b^{*} = \\frac{b}{a+b+c}$ and $c^{*} = \\frac{c}{a+b+c}$, denoting the normalized stoichiometry of the compound."
   ]
  },
  {
   "attachments": {},
   "cell_type": "markdown",
   "metadata": {},
   "source": [
    "## A matrix representation of the element features\n",
    "\n",
    "We can represent the element features as a matrix, $F$, of dimension $3 \\times N$, where $N$ is the number of features and 3 is the number of elements. The matrix is defined as:\n",
    "\n",
    "$F = \\begin{bmatrix} f_{A,1} & f_{A,2} & \\cdots & f_{A,N} \\\\ f_{B,1} & f_{B,2} & \\cdots & f_{B,N} \\\\ f_{C,1} & f_{C,2} & \\cdots & f_{C,N} \\end{bmatrix}$\n",
    "\n",
    "## A matrix representation of the stoichiometry\n",
    "\n",
    "We can represent the stoichiometry as a matrix, $S$, of dimension $1 \\times 3$, where 3 is the number of elements. The matrix is defined as:\n",
    "\n",
    "$S = \\begin{bmatrix} a & b & c \\end{bmatrix}$\n",
    "\n",
    "We can represent the normalized stoichiometry as a matrix, $S^{*}$, of dimension $1 \\times 3$, where 3 is the number of elements. The matrix is defined as:\n",
    "\n",
    "$S^{*} = \\begin{bmatrix} a^{*} & b^{*} & c^{*} \\end{bmatrix}$\n",
    "\n",
    "## Implementing the statistics\n",
    "\n",
    "We can implement the statistics using `numpy`."
   ]
  },
  {
   "attachments": {},
   "cell_type": "markdown",
   "metadata": {},
   "source": [
    "## A matrix representation of the the weighted mean\n",
    "\n",
    "We can represent the weighted mean as a matrix, $F_{mean}$, of dimension $1 \\times N$, where $N$ is the number of features. The matrix is defined as:\n",
    "\n",
    "$F_{mean} = \\begin{bmatrix} f_{mean,1} & f_{mean,2} & \\cdots & f_{mean,N} \\end{bmatrix}$\n",
    "\n",
    "This matrix can be calculated as:\n",
    "\n",
    "$F_{mean} = S^{*} \\cdot F$"
   ]
  },
  {
   "cell_type": "code",
   "execution_count": 8,
   "metadata": {},
   "outputs": [
    {
     "name": "stdout",
     "output_type": "stream",
     "text": [
      " We have 3 elements in the formula and 21 features per element.\n",
      " The shape of the element matrix is (3, 21)\n",
      "[[  5.        132.9054519 301.59        1.          6.        244.\n",
      "    0.79        1.          0.          0.          0.          1.\n",
      "    1.          0.          0.          0.          1.        115.765\n",
      "    0.          0.        229.       ]\n",
      " [ 81.        207.2       600.61       14.          6.        146.\n",
      "    2.33        2.          2.         10.         14.         28.\n",
      "    0.          4.          0.          0.          4.         28.11\n",
      "    0.          0.        225.       ]\n",
      " [ 96.        126.90447   386.85       17.          5.        139.\n",
      "    2.66        2.          5.         10.          0.         17.\n",
      "    0.          1.          0.          0.          1.         43.015\n",
      "    1.062       0.         64.       ]]\n"
     ]
    }
   ],
   "source": [
    "# Create the matrix of element embeddings\n",
    "\n",
    "n = int(len(CsPbI3_magpie.fractional_composition))\n",
    "m = len(CsPbI3_magpie.embedding.embeddings[\"H\"])\n",
    "el_matrix = np.zeros(shape=(n, m))\n",
    "for i, k in enumerate(CsPbI3_magpie.fractional_composition.keys()):\n",
    "    el_matrix[i] = CsPbI3_magpie.embedding.embeddings[k]\n",
    "\n",
    "print(f\" We have {n} elements in the formula and {m} features per element.\")\n",
    "print(f\" The shape of the element matrix is {el_matrix.shape}\")\n",
    "print(el_matrix)"
   ]
  },
  {
   "cell_type": "code",
   "execution_count": 11,
   "metadata": {},
   "outputs": [
    {
     "name": "stdout",
     "output_type": "stream",
     "text": [
      " The stoichiometric vector is [0.2 0.2 0.6]\n",
      " The mean vector is \n",
      " [7.48000000e+01 1.44163772e+02 4.12550000e+02 1.32000000e+01\n",
      " 5.40000000e+00 1.61400000e+02 2.22000000e+00 1.80000000e+00\n",
      " 3.40000000e+00 8.00000000e+00 2.80000000e+00 1.60000000e+01\n",
      " 2.00000000e-01 1.40000000e+00 0.00000000e+00 0.00000000e+00\n",
      " 1.60000000e+00 5.45840000e+01 6.37200000e-01 0.00000000e+00\n",
      " 1.29200000e+02]\n"
     ]
    }
   ],
   "source": [
    "# We can calculate the weighted mean feature vector by taking the dot product of the fractional composition and the element matrix\n",
    "\n",
    "# Get the stoichiometric vector\n",
    "stoich_vector = np.array(list(CsPbI3_magpie.fractional_composition.values()))\n",
    "print(f\" The stoichiometric vector is {stoich_vector}\")\n",
    "mean_vector = np.dot(stoich_vector, el_matrix)\n",
    "print(f\" The mean vector is \\n {mean_vector}\")"
   ]
  },
  {
   "cell_type": "code",
   "execution_count": 16,
   "metadata": {},
   "outputs": [
    {
     "name": "stdout",
     "output_type": "stream",
     "text": [
      " The mean vector is \n",
      " [7.48000000e+01 1.44163772e+02 4.12550000e+02 1.32000000e+01\n",
      " 5.40000000e+00 1.61400000e+02 2.22000000e+00 1.80000000e+00\n",
      " 3.40000000e+00 8.00000000e+00 2.80000000e+00 1.60000000e+01\n",
      " 2.00000000e-01 1.40000000e+00 0.00000000e+00 0.00000000e+00\n",
      " 1.60000000e+00 5.45840000e+01 6.37200000e-01 0.00000000e+00\n",
      " 1.29200000e+02]\n",
      "[ True  True  True  True  True  True  True  True  True  True  True  True\n",
      "  True  True  True  True  True  True  True  True  True]\n"
     ]
    }
   ],
   "source": [
    "# We can also use numpy.average to calculate the weighted mean\n",
    "mean_vector_2 = np.average(el_matrix, axis=0, weights=stoich_vector)\n",
    "print(f\" The mean vector is \\n {mean_vector_2}\")\n",
    "\n",
    "print(mean_vector == mean_vector_2)"
   ]
  },
  {
   "cell_type": "code",
   "execution_count": 18,
   "metadata": {},
   "outputs": [
    {
     "name": "stdout",
     "output_type": "stream",
     "text": [
      "1.24 µs ± 16.6 ns per loop (mean ± std. dev. of 7 runs, 1,000,000 loops each)\n",
      "32.2 µs ± 399 ns per loop (mean ± std. dev. of 7 runs, 10,000 loops each)\n"
     ]
    }
   ],
   "source": [
    "# Time the two methods\n",
    "%timeit np.dot(stoich_vector, el_matrix)\n",
    "%timeit np.average(el_matrix, axis=0, weights=stoich_vector)"
   ]
  },
  {
   "attachments": {},
   "cell_type": "markdown",
   "metadata": {},
   "source": [
    "Using np.dot() is quicker than using np.average() to calculate the mean feature vector. As such, we will use np.dot() to calculate the weighted mean."
   ]
  },
  {
   "attachments": {},
   "cell_type": "markdown",
   "metadata": {},
   "source": [
    "## A matrix representation of the the weighted sum\n",
    "\n",
    "We can represent the weighted sum as a matrix, $F_{sum}$, of dimension $1 \\times N$, where $N$ is the number of features. The matrix is defined as:\n",
    "\n",
    "$F_{sum} = \\begin{bmatrix} f_{sum,1} & f_{sum,2} & \\cdots & f_{sum,N} \\end{bmatrix}$\n",
    "\n",
    "This matrix can be calculated as:\n",
    "\n",
    "$F_{sum} = S \\cdot F$\n"
   ]
  },
  {
   "cell_type": "code",
   "execution_count": 20,
   "metadata": {},
   "outputs": [
    {
     "name": "stdout",
     "output_type": "stream",
     "text": [
      " The stoichiometric vector is [1. 1. 3.]\n",
      " The sum vector is \n",
      " [3.74000000e+02 7.20818862e+02 2.06275000e+03 6.60000000e+01\n",
      " 2.70000000e+01 8.07000000e+02 1.11000000e+01 9.00000000e+00\n",
      " 1.70000000e+01 4.00000000e+01 1.40000000e+01 8.00000000e+01\n",
      " 1.00000000e+00 7.00000000e+00 0.00000000e+00 0.00000000e+00\n",
      " 8.00000000e+00 2.72920000e+02 3.18600000e+00 0.00000000e+00\n",
      " 6.46000000e+02]\n"
     ]
    }
   ],
   "source": [
    "# We can calculate the weighted sum feature vector by taking the dot product of the stoichiometric vector and the element matrix\n",
    "\n",
    "stoich_vector_unweighted = np.array(list(CsPbI3_magpie.composition.values()))\n",
    "print(f\" The stoichiometric vector is {stoich_vector_unweighted}\")\n",
    "\n",
    "sum_vector = np.dot(stoich_vector_unweighted, el_matrix)\n",
    "print(f\" The sum vector is \\n {sum_vector}\")"
   ]
  },
  {
   "attachments": {},
   "cell_type": "markdown",
   "metadata": {},
   "source": [
    "## A matrix representation of the the weighted variance\n",
    "\n",
    "We can represent the weighted variance as a matrix, $F_{var}$, of dimension $1 \\times N$, where $N$ is the number of features. The matrix is defined as:\n",
    "\n",
    "$F_{var} = \\begin{bmatrix} f_{var,1} & f_{var,2} & \\cdots & f_{var,N} \\end{bmatrix}$\n",
    "\n",
    "This matrix can be calculated as:\n",
    "\n",
    "$F_{var} = S^{*} \\cdot (F - F_{mean})^2$\n"
   ]
  },
  {
   "cell_type": "code",
   "execution_count": 21,
   "metadata": {},
   "outputs": [
    {
     "name": "stdout",
     "output_type": "stream",
     "text": [
      " The variance vector is \n",
      " [1.25176000e+03 9.98793266e+02 9.93203104e+03 3.85600000e+01\n",
      " 2.40000000e-01 1.71304000e+03 5.27560000e-01 1.60000000e-01\n",
      " 4.24000000e+00 1.60000000e+01 3.13600000e+01 7.44000000e+01\n",
      " 1.60000000e-01 1.84000000e+00 0.00000000e+00 0.00000000e+00\n",
      " 1.44000000e+00 9.69102544e+02 2.70682560e-01 0.00000000e+00\n",
      " 6.37816000e+03]\n"
     ]
    }
   ],
   "source": [
    "# We can calculate the weighted variance feature vector by\n",
    "# 1. Subtracting the mean vector from each element embedding\n",
    "# 2. Squaring the result\n",
    "# 3. Taking the dot product of the squared difference and the stoichiometric vector\n",
    "\n",
    "# 1. Subtract the mean vector from each element embedding\n",
    "el_matrix_mean_subtracted = el_matrix - mean_vector\n",
    "\n",
    "# 2. Square the result\n",
    "el_matrix_mean_subtracted_squared = el_matrix_mean_subtracted**2\n",
    "\n",
    "# 3. Take the dot product of the squared difference and the stoichiometric vector\n",
    "var_vector = np.dot(stoich_vector, el_matrix_mean_subtracted_squared)\n",
    "print(f\" The variance vector is \\n {var_vector}\")"
   ]
  },
  {
   "attachments": {},
   "cell_type": "markdown",
   "metadata": {},
   "source": [
    "## A matrix representation of the the min-pooling\n",
    "\n",
    "We can represent the min-pooling as a matrix, $F_{min}$, of dimension $1 \\times N$, where $N$ is the number of features. The matrix is defined as:\n",
    "\n",
    "$F_{min} = \\begin{bmatrix} f_{min,1} & f_{min,2} & \\cdots & f_{min,N} \\end{bmatrix}$\n",
    "\n",
    "This matrix can be calculated as:\n",
    "\n",
    "$F_{min} = \\min(F)$\n"
   ]
  },
  {
   "cell_type": "code",
   "execution_count": 22,
   "metadata": {},
   "outputs": [
    {
     "name": "stdout",
     "output_type": "stream",
     "text": [
      " The min vector is \n",
      " [  5.      126.90447 301.59      1.        5.      139.        0.79\n",
      "   1.        0.        0.        0.        1.        0.        0.\n",
      "   0.        0.        1.       28.11      0.        0.       64.     ]\n"
     ]
    }
   ],
   "source": [
    "# We can calculate the weighted minpool feature vector by taking the minimum of each column of the element matrix\n",
    "\n",
    "min_vector = np.min(el_matrix, axis=0)\n",
    "print(f\" The min vector is \\n {min_vector}\")"
   ]
  },
  {
   "attachments": {},
   "cell_type": "markdown",
   "metadata": {},
   "source": [
    "## A matrix representation of the the max-pooling\n",
    "\n",
    "We can represent the max-pooling as a matrix, $F_{max}$, of dimension $1 \\times N$, where $N$ is the number of features. The matrix is defined as:\n",
    "\n",
    "$F_{max} = \\begin{bmatrix} f_{max,1} & f_{max,2} & \\cdots & f_{max,N} \\end{bmatrix}$\n",
    "\n",
    "This matrix can be calculated as:\n",
    "\n",
    "$F_{max} = \\max(F)$\n"
   ]
  },
  {
   "cell_type": "code",
   "execution_count": 23,
   "metadata": {},
   "outputs": [
    {
     "name": "stdout",
     "output_type": "stream",
     "text": [
      " The max vector is \n",
      " [ 96.    207.2   600.61   17.      6.    244.      2.66    2.      5.\n",
      "  10.     14.     28.      1.      4.      0.      0.      4.    115.765\n",
      "   1.062   0.    229.   ]\n"
     ]
    }
   ],
   "source": [
    "# We can calculate the weighted maxpool feature vector by taking the maximum of each column of the element matrix\n",
    "\n",
    "max_vector = np.max(el_matrix, axis=0)\n",
    "print(f\" The max vector is \\n {max_vector}\")"
   ]
  },
  {
   "attachments": {},
   "cell_type": "markdown",
   "metadata": {},
   "source": [
    "## Other statistics\n",
    "\n",
    "We can also implement other statistics, such as the median, mode, standard deviation, etc. However, these statistics are not as useful as the ones listed above. As such, we will not implement them.\n",
    "\n",
    "These other statistics be represented as:\n",
    "\n",
    "* Geometry mean: $\\sqrt[N]{\\prod_{i=1}^n x_i}$\n",
    "* Harmonic mean: $\\frac{n}{\\sum_{i=1}^n \\frac{1}{x_i}}$\n",
    "\n",
    "For our ternary compounds, we can represent the geometry mean as:\n",
    "\n",
    "* Geometry mean: $f_{gmean,i}=\\sqrt[a+b+c]{f_{A,i}^{a} \\cdot f_{B,i}^{b} \\cdot f_{C,i}^{c}}$\n",
    "* Harmonic mean: $f_{hmean,i}=\\frac{a+b+c}{\\frac{1}{f_{A,i}}*a + \\frac{1}{f_{B,i}}*b + \\frac{1}{f_{C,i}}*c}$"
   ]
  },
  {
   "cell_type": "code",
   "execution_count": null,
   "metadata": {},
   "outputs": [],
   "source": []
  }
 ],
 "metadata": {
  "kernelspec": {
   "display_name": "atomic_test",
   "language": "python",
   "name": "python3"
  },
  "language_info": {
   "codemirror_mode": {
    "name": "ipython",
    "version": 3
   },
   "file_extension": ".py",
   "mimetype": "text/x-python",
   "name": "python",
   "nbconvert_exporter": "python",
   "pygments_lexer": "ipython3",
   "version": "3.8.13"
  },
  "orig_nbformat": 4,
  "vscode": {
   "interpreter": {
    "hash": "bfad0b81df5b41ffb53bafa7f32021d99c9371dc7adb75c64dea2802f8c7fa9c"
   }
  }
 },
 "nbformat": 4,
 "nbformat_minor": 2
}
