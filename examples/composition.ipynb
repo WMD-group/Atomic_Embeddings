{
 "cells": [
  {
   "cell_type": "code",
   "execution_count": 1,
   "metadata": {},
   "outputs": [],
   "source": [
    "from AtomicEmbeddings.composition import CompositionalEmbedding"
   ]
  },
  {
   "attachments": {},
   "cell_type": "markdown",
   "metadata": {},
   "source": [
    "The core class of the `AtomicEmbeddings.composition` module is the `CompositionalEmbedding` class.\n",
    "We can use this class the create objects which represent a composition and an elemental representation.\n",
    "We can create an instance of this class as follows:\n",
    "\n",
    "```python\n",
    "Fe2O3_magpie = CompositionalEmbedding(formula='Fe2O3', embedding='magpie')\n",
    "```\n"
   ]
  },
  {
   "cell_type": "code",
   "execution_count": 4,
   "metadata": {},
   "outputs": [],
   "source": [
    "Fe2O3_magpie = CompositionalEmbedding(formula=\"Fe2O3\", embedding=\"magpie_sc\")"
   ]
  },
  {
   "attachments": {},
   "cell_type": "markdown",
   "metadata": {},
   "source": [
    "Some properties which are accessible are the `composition` and `fractional composition` which are dictionaries of element:amount key:value pairs."
   ]
  },
  {
   "cell_type": "code",
   "execution_count": null,
   "metadata": {},
   "outputs": [],
   "source": [
    "print()"
   ]
  }
 ],
 "metadata": {
  "kernelspec": {
   "display_name": "atomic_dev",
   "language": "python",
   "name": "python3"
  },
  "language_info": {
   "codemirror_mode": {
    "name": "ipython",
    "version": 3
   },
   "file_extension": ".py",
   "mimetype": "text/x-python",
   "name": "python",
   "nbconvert_exporter": "python",
   "pygments_lexer": "ipython3",
   "version": "3.9.13 (main, Oct 13 2022, 21:15:33) \n[GCC 11.2.0]"
  },
  "orig_nbformat": 4,
  "vscode": {
   "interpreter": {
    "hash": "94b27d7815fced387b88df5b0ff93cedd6822b989d46e35c5073559e46421f5f"
   }
  }
 },
 "nbformat": 4,
 "nbformat_minor": 2
}
