{
 "cells": [
  {
   "cell_type": "code",
   "execution_count": 1,
   "metadata": {},
   "outputs": [],
   "source": [
    "from AtomicEmbeddings.composition import CompositionalEmbedding\n",
    "import numpy as np\n",
    "\n",
    "np.set_printoptions(suppress=True)"
   ]
  },
  {
   "attachments": {},
   "cell_type": "markdown",
   "metadata": {},
   "source": [
    "The core class of the `AtomicEmbeddings.composition` module is the `CompositionalEmbedding` class.\n",
    "We can use this class the create objects which represent a composition and an elemental representation.\n",
    "We can create an instance of this class as follows:\n",
    "\n",
    "```python\n",
    "CsPbI3_magpie = CompositionalEmbedding(formula='CsPbI3', embedding='magpie')\n",
    "```\n"
   ]
  },
  {
   "cell_type": "code",
   "execution_count": 2,
   "metadata": {},
   "outputs": [],
   "source": [
    "CsPbI3_magpie = CompositionalEmbedding(formula=\"CsPbI3\", embedding=\"magpie\")"
   ]
  },
  {
   "attachments": {},
   "cell_type": "markdown",
   "metadata": {},
   "source": [
    "We can access the elemental embeddings of the individual elements in the composition from the `el_matrix` attribute.\n",
    "```python\n",
    ">>> CsPbI3_magpie.el_matrix\n",
    "```"
   ]
  },
  {
   "cell_type": "code",
   "execution_count": 3,
   "metadata": {},
   "outputs": [
    {
     "name": "stdout",
     "output_type": "stream",
     "text": [
      "[[  5.        132.9054519 301.59        1.          6.        244.\n",
      "    0.79        1.          0.          0.          0.          1.\n",
      "    1.          0.          0.          0.          1.        115.765\n",
      "    0.          0.        229.       ]\n",
      " [ 81.        207.2       600.61       14.          6.        146.\n",
      "    2.33        2.          2.         10.         14.         28.\n",
      "    0.          4.          0.          0.          4.         28.11\n",
      "    0.          0.        225.       ]\n",
      " [ 96.        126.90447   386.85       17.          5.        139.\n",
      "    2.66        2.          5.         10.          0.         17.\n",
      "    0.          1.          0.          0.          1.         43.015\n",
      "    1.062       0.         64.       ]]\n"
     ]
    }
   ],
   "source": [
    "# Print the individual element feature vectors\n",
    "print(CsPbI3_magpie.el_matrix)"
   ]
  },
  {
   "attachments": {},
   "cell_type": "markdown",
   "metadata": {},
   "source": [
    "Some properties which are accessible are the `composition` and `fractional composition` which are dictionaries of element:amount key:value pairs."
   ]
  },
  {
   "cell_type": "code",
   "execution_count": 4,
   "metadata": {},
   "outputs": [
    {
     "name": "stdout",
     "output_type": "stream",
     "text": [
      "defaultdict(<class 'float'>, {'Cs': 1.0, 'Pb': 1.0, 'I': 3.0})\n",
      "{'Cs': 0.2, 'Pb': 0.2, 'I': 0.6}\n"
     ]
    }
   ],
   "source": [
    "# Print the composition and the fractional composition\n",
    "print(CsPbI3_magpie.composition)\n",
    "print(CsPbI3_magpie.fractional_composition)"
   ]
  },
  {
   "attachments": {},
   "cell_type": "markdown",
   "metadata": {},
   "source": [
    "Other properties and attributes that can be accessed are the (normalised) stoichiometry represented as a vector.\n"
   ]
  },
  {
   "cell_type": "code",
   "execution_count": 5,
   "metadata": {},
   "outputs": [
    {
     "name": "stdout",
     "output_type": "stream",
     "text": [
      "['Cs', 'Pb', 'I']\n",
      "[1. 1. 3.]\n",
      "[0.2 0.2 0.6]\n",
      "5.0\n"
     ]
    }
   ],
   "source": [
    "# Print the list of elements\n",
    "print(CsPbI3_magpie.element_list)\n",
    "# Print the stoichiometric vector\n",
    "print(CsPbI3_magpie.stoich_vector)\n",
    "\n",
    "# Print the normalized stoichiometric vector\n",
    "print(CsPbI3_magpie.norm_stoich_vector)\n",
    "\n",
    "# Print the number of atoms\n",
    "print(CsPbI3_magpie.num_atoms)"
   ]
  },
  {
   "attachments": {},
   "cell_type": "markdown",
   "metadata": {},
   "source": [
    "We can create create compositional-based feature vectors using the `feature_vector` method.\n",
    "```python\n",
    ">>> CsPbI3_magpie.feature_vector()\n",
    "```\n",
    "By default, this will return the weighted average of the elemental embeddings of the composition. This would have the same dimension as the individual elemental embeddings.\n",
    "We can also specify the type of feature vector we want to create by passing the `stats` argument.\n",
    "```python\n",
    ">>> CsPbI3_magpie.feature_vector(stats=['mean', 'variance'])\n",
    "```\n",
    "This would return a feature vector which is the concatenation of the mean and variance of the elemental embeddings of the composition. This would have twice the dimension of the individual elemental embeddings. In general, the dimension of the feature vector is the product of the dimension of the elemental embeddings and the number of statistics requested.\n",
    "\n",
    "The available statistics are:\n",
    "- `mean`\n",
    "- `variance`\n",
    "- `minpool`\n",
    "- `maxpool`\n",
    "- `sum`\n",
    "- `range`\n",
    "- `harmonic_mean`\n",
    "- `geometric_mean`\n",
    "\n"
   ]
  },
  {
   "cell_type": "code",
   "execution_count": 6,
   "metadata": {},
   "outputs": [
    {
     "name": "stdout",
     "output_type": "stream",
     "text": [
      "[ 74.8        144.16377238 412.55        13.2          5.4\n",
      " 161.4          2.22         1.8          3.4          8.\n",
      "   2.8         16.           0.2          1.4          0.\n",
      "   0.           1.6         54.584        0.6372       0.\n",
      " 129.2       ]\n"
     ]
    }
   ],
   "source": [
    "# Print the mean feature vector\n",
    "print(CsPbI3_magpie.feature_vector(stats=\"mean\"))"
   ]
  },
  {
   "cell_type": "code",
   "execution_count": 7,
   "metadata": {},
   "outputs": [
    {
     "name": "stdout",
     "output_type": "stream",
     "text": [
      "The dimension of the feature vector is 105\n",
      "[  74.8         144.16377238  412.55         13.2           5.4\n",
      "  161.4           2.22          1.8           3.4           8.\n",
      "    2.8          16.            0.2           1.4           0.\n",
      "    0.            1.6          54.584         0.6372        0.\n",
      "  129.2        1251.76        998.7932657  9932.03104      38.56\n",
      "    0.24       1713.04          0.52756       0.16          4.24\n",
      "   16.           31.36         74.4           0.16          1.84\n",
      "    0.            0.            1.44        969.102544      0.27068256\n",
      "    0.         6378.16          5.          126.90447     301.59\n",
      "    1.            5.          139.            0.79          1.\n",
      "    0.            0.            0.            1.            0.\n",
      "    0.            0.            0.            1.           28.11\n",
      "    0.            0.           64.           96.          207.2\n",
      "  600.61         17.            6.          244.            2.66\n",
      "    2.            5.           10.           14.           28.\n",
      "    1.            4.            0.            0.            4.\n",
      "  115.765         1.062         0.          229.          374.\n",
      "  720.8188619  2062.75         66.           27.          807.\n",
      "   11.1           9.           17.           40.           14.\n",
      "   80.            1.            7.            0.            0.\n",
      "    8.          272.92          3.186         0.          646.        ]\n"
     ]
    }
   ],
   "source": [
    "# Print the feature vector for the mean, variance, minpool, maxpool, and sum\n",
    "CsPbI3_magpie_cbfv = CsPbI3_magpie.feature_vector(\n",
    "    stats=[\"mean\", \"variance\", \"minpool\", \"maxpool\", \"sum\"]\n",
    ")\n",
    "print(f\"The dimension of the feature vector is {CsPbI3_magpie_cbfv.shape[0]}\")\n",
    "\n",
    "print(CsPbI3_magpie_cbfv)"
   ]
  },
  {
   "cell_type": "code",
   "execution_count": null,
   "metadata": {},
   "outputs": [],
   "source": []
  }
 ],
 "metadata": {
  "kernelspec": {
   "display_name": "atomic_test",
   "language": "python",
   "name": "python3"
  },
  "language_info": {
   "codemirror_mode": {
    "name": "ipython",
    "version": 3
   },
   "file_extension": ".py",
   "mimetype": "text/x-python",
   "name": "python",
   "nbconvert_exporter": "python",
   "pygments_lexer": "ipython3",
   "version": "3.8.13"
  },
  "orig_nbformat": 4,
  "vscode": {
   "interpreter": {
    "hash": "bfad0b81df5b41ffb53bafa7f32021d99c9371dc7adb75c64dea2802f8c7fa9c"
   }
  }
 },
 "nbformat": 4,
 "nbformat_minor": 2
}
