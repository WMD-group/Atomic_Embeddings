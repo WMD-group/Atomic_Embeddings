{
 "cells": [
  {
   "cell_type": "code",
   "execution_count": 11,
   "metadata": {},
   "outputs": [],
   "source": [
    "import os\n",
    "from pymatgen.core.periodic_table import Element"
   ]
  },
  {
   "cell_type": "code",
   "execution_count": 2,
   "metadata": {},
   "outputs": [
    {
     "name": "stdout",
     "output_type": "stream",
     "text": [
      "['ordered_periodic.txt', 'README.md', 'element_group.json']\n"
     ]
    }
   ],
   "source": [
    "print(os.listdir('AtomicEmbeddings/data/element_data'))"
   ]
  },
  {
   "cell_type": "code",
   "execution_count": 3,
   "metadata": {},
   "outputs": [],
   "source": [
    "import json\n",
    "\n",
    "with open('AtomicEmbeddings/data/element_data/element_group.json') as f:\n",
    "    data = json.load(f)"
   ]
  },
  {
   "cell_type": "code",
   "execution_count": 5,
   "metadata": {},
   "outputs": [],
   "source": [
    "els = data.keys()"
   ]
  },
  {
   "cell_type": "code",
   "execution_count": 15,
   "metadata": {},
   "outputs": [
    {
     "ename": "TypeError",
     "evalue": "float() argument must be a string or a number, not 'NoneType'",
     "output_type": "error",
     "traceback": [
      "\u001b[0;31m---------------------------------------------------------------------------\u001b[0m",
      "\u001b[0;31mTypeError\u001b[0m                                 Traceback (most recent call last)",
      "\u001b[1;32m/Users/aonwu/Documents/Project 2/Atomic_Embeddings/element_stuff.ipynb Cell 5\u001b[0m in \u001b[0;36m<cell line: 2>\u001b[0;34m()\u001b[0m\n\u001b[1;32m      <a href='vscode-notebook-cell:/Users/aonwu/Documents/Project%202/Atomic_Embeddings/element_stuff.ipynb#W4sZmlsZQ%3D%3D?line=0'>1</a>\u001b[0m new_dict \u001b[39m=\u001b[39m {}\n\u001b[1;32m      <a href='vscode-notebook-cell:/Users/aonwu/Documents/Project%202/Atomic_Embeddings/element_stuff.ipynb#W4sZmlsZQ%3D%3D?line=1'>2</a>\u001b[0m \u001b[39mfor\u001b[39;00m i,v \u001b[39min\u001b[39;00m data\u001b[39m.\u001b[39mitems():\n\u001b[1;32m      <a href='vscode-notebook-cell:/Users/aonwu/Documents/Project%202/Atomic_Embeddings/element_stuff.ipynb#W4sZmlsZQ%3D%3D?line=2'>3</a>\u001b[0m     new_dict[i]\u001b[39m=\u001b[39m{\u001b[39m'\u001b[39m\u001b[39mgroup\u001b[39m\u001b[39m'\u001b[39m:v,\n\u001b[1;32m      <a href='vscode-notebook-cell:/Users/aonwu/Documents/Project%202/Atomic_Embeddings/element_stuff.ipynb#W4sZmlsZQ%3D%3D?line=3'>4</a>\u001b[0m     \u001b[39m'\u001b[39m\u001b[39mZ\u001b[39m\u001b[39m'\u001b[39m:Element(i)\u001b[39m.\u001b[39mZ,\n\u001b[0;32m----> <a href='vscode-notebook-cell:/Users/aonwu/Documents/Project%202/Atomic_Embeddings/element_stuff.ipynb#W4sZmlsZQ%3D%3D?line=4'>5</a>\u001b[0m     \u001b[39m'\u001b[39m\u001b[39mmendeleev_no\u001b[39m\u001b[39m'\u001b[39m:Element(i)\u001b[39m.\u001b[39;49mmendeleev_no}\n\u001b[1;32m      <a href='vscode-notebook-cell:/Users/aonwu/Documents/Project%202/Atomic_Embeddings/element_stuff.ipynb#W4sZmlsZQ%3D%3D?line=6'>7</a>\u001b[0m new_dict[\u001b[39m'\u001b[39m\u001b[39mH\u001b[39m\u001b[39m'\u001b[39m]\n",
      "File \u001b[0;32m~/.local/lib/python3.8/site-packages/pymatgen/core/periodic_table.py:282\u001b[0m, in \u001b[0;36mElementBase.__getattr__\u001b[0;34m(self, item)\u001b[0m\n\u001b[1;32m    280\u001b[0m \u001b[39melse\u001b[39;00m:\n\u001b[1;32m    281\u001b[0m     \u001b[39mtry\u001b[39;00m:\n\u001b[0;32m--> 282\u001b[0m         val \u001b[39m=\u001b[39m \u001b[39mfloat\u001b[39;49m(val)\n\u001b[1;32m    283\u001b[0m     \u001b[39mexcept\u001b[39;00m \u001b[39mValueError\u001b[39;00m:\n\u001b[1;32m    284\u001b[0m         nobracket \u001b[39m=\u001b[39m re\u001b[39m.\u001b[39msub(\u001b[39mr\u001b[39m\u001b[39m\"\u001b[39m\u001b[39m\\\u001b[39m\u001b[39m(.*\u001b[39m\u001b[39m\\\u001b[39m\u001b[39m)\u001b[39m\u001b[39m\"\u001b[39m, \u001b[39m\"\u001b[39m\u001b[39m\"\u001b[39m, val)\n",
      "\u001b[0;31mTypeError\u001b[0m: float() argument must be a string or a number, not 'NoneType'"
     ]
    }
   ],
   "source": [
    "new_dict = {}\n",
    "for i,v in data.items():\n",
    "    new_dict[i]={'group':v,\n",
    "    'Z':Element(i).Z,\n",
    "    'mendeleev_no':Element(i).mendeleev_no}\n",
    "\n",
    "new_dict['H']"
   ]
  },
  {
   "cell_type": "code",
   "execution_count": 10,
   "metadata": {},
   "outputs": [],
   "source": []
  },
  {
   "cell_type": "code",
   "execution_count": null,
   "metadata": {},
   "outputs": [],
   "source": []
  }
 ],
 "metadata": {
  "kernelspec": {
   "display_name": "Python 3.8.13 ('atomic_test')",
   "language": "python",
   "name": "python3"
  },
  "language_info": {
   "codemirror_mode": {
    "name": "ipython",
    "version": 3
   },
   "file_extension": ".py",
   "mimetype": "text/x-python",
   "name": "python",
   "nbconvert_exporter": "python",
   "pygments_lexer": "ipython3",
   "version": "3.8.13"
  },
  "orig_nbformat": 4,
  "vscode": {
   "interpreter": {
    "hash": "bfad0b81df5b41ffb53bafa7f32021d99c9371dc7adb75c64dea2802f8c7fa9c"
   }
  }
 },
 "nbformat": 4,
 "nbformat_minor": 2
}
