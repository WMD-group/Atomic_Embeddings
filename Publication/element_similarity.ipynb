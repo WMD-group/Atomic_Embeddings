{
 "cells": [
  {
   "attachments": {},
   "cell_type": "markdown",
   "metadata": {},
   "source": [
    "# Element Similarity\n",
    "\n",
    "This notebook is used to reproduce the plots shown in the paper."
   ]
  },
  {
   "cell_type": "code",
   "execution_count": null,
   "metadata": {},
   "outputs": [],
   "source": [
    "# Imports\n",
    "from AtomicEmbeddings.core import Embedding, data_directory\n",
    "from AtomicEmbeddings.plotter import multi_heatmap_plotter\n",
    "import pandas as pd\n",
    "import os\n",
    "import seaborn as sns\n",
    "\n",
    "sns.set(font_scale=1.5)"
   ]
  },
  {
   "attachments": {},
   "cell_type": "markdown",
   "metadata": {},
   "source": [
    "## Introduction\n",
    "\n",
    "Let's set up the Embedding classes and load the data"
   ]
  },
  {
   "cell_type": "code",
   "execution_count": null,
   "metadata": {},
   "outputs": [],
   "source": [
    "# Load the embeddings\n",
    "cbfvs = [\n",
    "    \"magpie\",\n",
    "    \"mat2vec\",\n",
    "    \"megnet16\",\n",
    "    \"oliynyk\",\n",
    "    \"mod_petti\",\n",
    "    \"random_200\",\n",
    "    \"skipatom\",\n",
    "]\n",
    "element_embedddings = {cbfv: Embedding.load_data(cbfv) for cbfv in cbfvs}"
   ]
  },
  {
   "attachments": {},
   "cell_type": "markdown",
   "metadata": {},
   "source": [
    "We can reproduce some of the information in table I from the paper by running the following code:"
   ]
  },
  {
   "cell_type": "code",
   "execution_count": null,
   "metadata": {},
   "outputs": [],
   "source": [
    "# Let's find the dimensionality of all of the CBFVs that we have loaded\n",
    "\n",
    "element_embedddings_dim = {cbfv: [element_embedddings[cbfv].dim] for cbfv in cbfvs}\n",
    "\n",
    "dim_df = pd.DataFrame.from_dict(\n",
    "    element_embedddings_dim, orient=\"index\", columns=[\"dimension\"]\n",
    ")\n",
    "print(dim_df)"
   ]
  },
  {
   "attachments": {},
   "cell_type": "markdown",
   "metadata": {},
   "source": [
    "## II.B Similarity measures"
   ]
  },
  {
   "attachments": {},
   "cell_type": "markdown",
   "metadata": {},
   "source": [
    "Let's set up the Embedding classes for our analysis"
   ]
  },
  {
   "cell_type": "code",
   "execution_count": null,
   "metadata": {},
   "outputs": [],
   "source": [
    "# Get our four embeddings to compare\n",
    "cbfvs_to_keep = [\"magpie\", \"mat2vec\", \"megnet16\", \"random_200\"]\n",
    "element_vectors = {cbfv: element_embedddings[cbfv] for cbfv in cbfvs_to_keep}\n",
    "\n",
    "# Keep the first 83 elements\n",
    "\n",
    "# Get the ordered symbols file\n",
    "symbols_path = os.path.join(data_directory, \"element_data\", \"ordered_periodic.txt\")\n",
    "with open(symbols_path) as f:\n",
    "    symbols = f.read().splitlines()\n",
    "\n",
    "# Get the first 83 elements\n",
    "symbols = symbols[:83]\n",
    "\n",
    "for cbfv in cbfvs_to_keep:\n",
    "    # Get the keys of the atomic embeddings object\n",
    "    elements = set(element_vectors[cbfv].element_list)\n",
    "    el_symbols_set = set(symbols)\n",
    "\n",
    "    # Get the element symbols we want to remove\n",
    "    els_to_remove = list(elements - el_symbols_set)\n",
    "\n",
    "    # Iteratively delete the elements with atomic number\n",
    "    # greater than 83 from our embeddings\n",
    "    for el in els_to_remove:\n",
    "        del element_vectors[cbfv].embeddings[el]\n",
    "\n",
    "    # Verify that we have 83 elements\n",
    "    print(len(element_vectors[cbfv].element_list))"
   ]
  },
  {
   "attachments": {},
   "cell_type": "markdown",
   "metadata": {},
   "source": [
    "# Euclidean distances\n",
    "\n",
    "\n",
    "\\begin{equation}\n",
    "d_E(\\textbf{A,B}) = \n",
    "\\sqrt{\n",
    "(A_1 - B_1)^2 \n",
    "+ \\cdots\n",
    "+ (A_n - B_n)^2 }\n",
    "\\end{equation}\n",
    "\n",
    "We can use the Euclidean distance to compare the similarity of two elements. The following code will plot the distribution of the Euclidean distances between all pairs of elements in the embedding space."
   ]
  },
  {
   "cell_type": "code",
   "execution_count": null,
   "metadata": {},
   "outputs": [],
   "source": [
    "multi_heatmap_plotter(\n",
    "    element_vectors.values(),\n",
    "    nrows=2,\n",
    "    ncols=2,\n",
    "    metric=\"euclidean\",\n",
    "    sortaxisby=\"atomic_number\",\n",
    "    show_axislabels=False,\n",
    "    show_plot=True,\n",
    "    figsize=(10, 10),\n",
    "    filename=\"1_euclidean.pdf\",\n",
    ")"
   ]
  },
  {
   "attachments": {},
   "cell_type": "markdown",
   "metadata": {},
   "source": [
    "### Manhattan distances\n",
    "\n",
    "\\begin{equation}\n",
    "d_M(\\textbf{A,B}) = \n",
    "\\sum_{i=1}^n |A_i - B_i|\n",
    "\\end{equation}\n",
    "\n",
    "We can use the Manhattan distance to compare the similarity of two elements. The following code will plot the distribution of the Manhattan distances between all pairs of elements in the embedding space.\n"
   ]
  },
  {
   "cell_type": "code",
   "execution_count": null,
   "metadata": {},
   "outputs": [],
   "source": [
    "multi_heatmap_plotter(\n",
    "    element_vectors.values(),\n",
    "    nrows=2,\n",
    "    ncols=2,\n",
    "    metric=\"manhattan\",\n",
    "    sortaxisby=\"atomic_number\",\n",
    "    show_axislabels=False,\n",
    "    show_plot=True,\n",
    "    figsize=(10, 10),\n",
    "    filename=\"2_manhattan.pdf\",\n",
    ")"
   ]
  },
  {
   "cell_type": "code",
   "execution_count": null,
   "metadata": {},
   "outputs": [],
   "source": [
    "multi_heatmap_plotter(\n",
    "    element_vectors.values(),\n",
    "    nrows=2,\n",
    "    ncols=2,\n",
    "    metric=\"manhattan\",\n",
    "    sortaxisby=\"atomic_number\",\n",
    "    show_axislabels=False,\n",
    "    show_plot=True,\n",
    "    figsize=(10, 10),\n",
    "    # filename=\"2_manhattan.pdf\",\n",
    ")"
   ]
  },
  {
   "cell_type": "code",
   "execution_count": null,
   "metadata": {},
   "outputs": [],
   "source": []
  }
 ],
 "metadata": {
  "kernelspec": {
   "display_name": "atomic_test",
   "language": "python",
   "name": "python3"
  },
  "language_info": {
   "codemirror_mode": {
    "name": "ipython",
    "version": 3
   },
   "file_extension": ".py",
   "mimetype": "text/x-python",
   "name": "python",
   "nbconvert_exporter": "python",
   "pygments_lexer": "ipython3",
   "version": "3.8.13"
  },
  "orig_nbformat": 4,
  "vscode": {
   "interpreter": {
    "hash": "bfad0b81df5b41ffb53bafa7f32021d99c9371dc7adb75c64dea2802f8c7fa9c"
   }
  }
 },
 "nbformat": 4,
 "nbformat_minor": 2
}
