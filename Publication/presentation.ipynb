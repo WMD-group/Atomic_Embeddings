{
 "cells": [
  {
   "cell_type": "code",
   "execution_count": null,
   "metadata": {},
   "outputs": [],
   "source": [
    "import matplotlib.pyplot as plt\n",
    "import numpy as np\n",
    "import pandas as pd\n",
    "import pylab as pl\n",
    "import seaborn as sns\n",
    "import smact\n",
    "import umap\n",
    "from matplotlib.ticker import FixedLocator, FormatStrFormatter\n",
    "from scipy.special import rel_entr\n",
    "from scipy.stats import energy_distance, pearsonr, spearmanr, wasserstein_distance\n",
    "from sklearn import decomposition\n",
    "from sklearn.manifold import TSNE\n",
    "from sklearn.preprocessing import StandardScaler\n",
    "\n",
    "from AtomicEmbeddings.core import Embedding\n",
    "\n",
    "sns.set(font_scale=2)"
   ]
  },
  {
   "cell_type": "code",
   "execution_count": null,
   "metadata": {},
   "outputs": [],
   "source": [
    "# Set up the Atomic Embedding features\n",
    "\n",
    "# Create a list of the CBFVs we are interested in\n",
    "cbfvs = [\"mat2vec\", \"random_200\", \"magpie_sc\", \"megnet16\"]\n",
    "\n",
    "# Create a dictionary of {cbfv: AtomicEmbeddings}\n",
    "AtomEmbeds = {cbfv: Embedding.load_data(cbfv) for cbfv in cbfvs}\n",
    "\n",
    "# Only keep the first 83 elements for the Atomic Embeddings\n",
    "\n",
    "# For now Smact is used, but a future update will aim to remove this dependency\n",
    "el_symbols = smact.ordered_elements(1, 83)\n",
    "\n",
    "# Iterate over the AtomEmbeds to remove the elements\n",
    "\n",
    "for cbfv in cbfvs:\n",
    "    # Get the keys of the atomic embeddings object\n",
    "    elements = set(AtomEmbeds[cbfv].element_list)\n",
    "    el_symbols_set = set(el_symbols)\n",
    "\n",
    "    # Get the element symbols we want to remove\n",
    "    els_to_remove = list(elements - el_symbols_set)\n",
    "\n",
    "    # Iteratively delete the elements with atomic number\n",
    "    # greater than 83 from our embeddings\n",
    "    for el in els_to_remove:\n",
    "        del AtomEmbeds[cbfv].embeddings[el]\n",
    "\n",
    "    # Verify that we have 83 elements\n",
    "    print(len(AtomEmbeds[cbfv].element_list))"
   ]
  },
  {
   "cell_type": "code",
   "execution_count": null,
   "metadata": {},
   "outputs": [],
   "source": [
    "df_mag = AtomEmbeds[\"magpie_sc\"].create_correlation_df()\n",
    "# df_mag=df_mag.loc[df_mag.pearson_corr!=1].reset_index(drop=True)\n",
    "print(df_mag.shape)\n",
    "df_mag.head()"
   ]
  },
  {
   "cell_type": "code",
   "execution_count": null,
   "metadata": {},
   "outputs": [],
   "source": [
    "df_meg = AtomEmbeds[\"megnet16\"].create_correlation_df()\n",
    "# df_meg=df_meg.loc[df_meg.pearson_corr!=1].reset_index(drop=True)\n",
    "print(df_meg.shape)\n",
    "df_meg.head()"
   ]
  },
  {
   "cell_type": "code",
   "execution_count": null,
   "metadata": {},
   "outputs": [],
   "source": [
    "fig, ax = plt.subplots()\n",
    "\n",
    "ax.plot(df_meg[\"pearson_corr\"])\n",
    "plt.show()"
   ]
  },
  {
   "cell_type": "code",
   "execution_count": null,
   "metadata": {},
   "outputs": [],
   "source": [
    "meg_pearson = df_meg[\"pearson_corr\"].to_numpy()\n",
    "mag_pearson = df_mag[\"pearson_corr\"].to_numpy()"
   ]
  },
  {
   "cell_type": "code",
   "execution_count": null,
   "metadata": {},
   "outputs": [],
   "source": [
    "energy_distance(meg_pearson, mag_pearson)"
   ]
  },
  {
   "cell_type": "code",
   "execution_count": null,
   "metadata": {},
   "outputs": [],
   "source": [
    "df_meg[\"meg-mag_pearson\"] = abs(meg_pearson - mag_pearson)\n",
    "df_meg.head()"
   ]
  },
  {
   "cell_type": "code",
   "execution_count": null,
   "metadata": {},
   "outputs": [],
   "source": [
    "df_meg.describe()"
   ]
  },
  {
   "cell_type": "code",
   "execution_count": null,
   "metadata": {},
   "outputs": [],
   "source": [
    "fig, ax = plt.subplots(figsize=(36, 24))\n",
    "p = df_meg.pivot_table(values=\"meg-mag_pearson\", index=\"mend_1\", columns=\"mend_2\")\n",
    "\n",
    "xlabels = [i[1] for i in p.index]\n",
    "ylabels = [i[1] for i in p.columns]\n",
    "g = sns.heatmap(\n",
    "    p,\n",
    "    cmap=\"bwr\",\n",
    "    square=\"True\",\n",
    "    linecolor=\"k\",\n",
    "    ax=ax,\n",
    "    xticklabels=True,\n",
    "    yticklabels=True,\n",
    ")\n",
    "ax.title.set_text(cbfv)\n",
    "# ax.set_xticklabels(xlabels, fontsize=\"medium\")\n",
    "ax.set_yticklabels(ylabels)\n",
    "majors = np.linspace(1, 83, 2)\n",
    "minors = np.linspace(2, 83, 2)\n",
    "# ax.xaxis.set_major_locator(FixedLocator())\n",
    "ax.set_xlabel(\"\")\n",
    "ax.set_ylabel(\"\")\n",
    "\n",
    "plt.show()"
   ]
  },
  {
   "cell_type": "code",
   "execution_count": null,
   "metadata": {},
   "outputs": [],
   "source": []
  }
 ],
 "metadata": {
  "kernelspec": {
   "display_name": "atomic_test",
   "language": "python",
   "name": "python3"
  },
  "language_info": {
   "codemirror_mode": {
    "name": "ipython",
    "version": 3
   },
   "file_extension": ".py",
   "mimetype": "text/x-python",
   "name": "python",
   "nbconvert_exporter": "python",
   "pygments_lexer": "ipython3",
   "version": "3.8.13"
  },
  "vscode": {
   "interpreter": {
    "hash": "bfad0b81df5b41ffb53bafa7f32021d99c9371dc7adb75c64dea2802f8c7fa9c"
   }
  }
 },
 "nbformat": 4,
 "nbformat_minor": 2
}
