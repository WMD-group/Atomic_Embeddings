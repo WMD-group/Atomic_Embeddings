{
 "cells": [
  {
   "cell_type": "markdown",
   "metadata": {},
   "source": [
    "# Using the composition module"
   ]
  },
  {
   "cell_type": "code",
   "execution_count": 1,
   "metadata": {
    "ExecuteTime": {
     "end_time": "2024-04-10T13:43:50.159344600Z",
     "start_time": "2024-04-10T13:43:19.758896800Z"
    }
   },
   "outputs": [],
   "source": [
    "import pandas as pd\n",
    "from elementembeddings.composition import composition_featuriser\n",
    "from elementembeddings.composition import CompositionalEmbedding\n",
    "import numpy as np\n",
    "\n",
    "np.set_printoptions(suppress=True)"
   ]
  },
  {
   "attachments": {},
   "cell_type": "markdown",
   "metadata": {},
   "source": [
    "The core class of the `elementembeddings.composition` module is the `CompositionalEmbedding` class.\n",
    "We can use this class the create objects which represent a composition and an elemental representation.\n",
    "We can create an instance of this class as follows:\n",
    "\n",
    "```python\n",
    "CsPbI3_magpie = CompositionalEmbedding(formula='CsPbI3', embedding='magpie')\n",
    "```\n"
   ]
  },
  {
   "cell_type": "code",
   "execution_count": 2,
   "metadata": {
    "ExecuteTime": {
     "end_time": "2024-04-10T13:43:50.215488400Z",
     "start_time": "2024-04-10T13:43:50.156342800Z"
    }
   },
   "outputs": [],
   "source": [
    "CsPbI3_magpie = CompositionalEmbedding(formula=\"CsPbI3\", embedding=\"magpie\")"
   ]
  },
  {
   "attachments": {},
   "cell_type": "markdown",
   "metadata": {},
   "source": [
    "We can access the elemental embeddings of the individual elements in the composition from the `el_matrix` attribute.\n",
    "```python\n",
    ">>> CsPbI3_magpie.el_matrix\n",
    "```"
   ]
  },
  {
   "cell_type": "code",
   "execution_count": 3,
   "metadata": {
    "ExecuteTime": {
     "end_time": "2024-04-10T13:43:50.296525Z",
     "start_time": "2024-04-10T13:43:50.202493200Z"
    }
   },
   "outputs": [
    {
     "name": "stdout",
     "output_type": "stream",
     "text": [
      "[[ 55.          5.        132.9054519 301.59        1.          6.\n",
      "  244.          0.79        1.          0.          0.          0.\n",
      "    1.          1.          0.          0.          0.          1.\n",
      "  115.765       0.          0.        229.       ]\n",
      " [ 82.         81.        207.2       600.61       14.          6.\n",
      "  146.          2.33        2.          2.         10.         14.\n",
      "   28.          0.          4.          0.          0.          4.\n",
      "   28.11        0.          0.        225.       ]\n",
      " [ 53.         96.        126.90447   386.85       17.          5.\n",
      "  139.          2.66        2.          5.         10.          0.\n",
      "   17.          0.          1.          0.          0.          1.\n",
      "   43.015       1.062       0.         64.       ]]\n"
     ]
    }
   ],
   "source": [
    "# Print the individual element feature vectors\n",
    "print(CsPbI3_magpie.el_matrix)"
   ]
  },
  {
   "attachments": {},
   "cell_type": "markdown",
   "metadata": {},
   "source": [
    "Some properties which are accessible are the `composition` and `fractional composition` which are dictionaries of element:amount key:value pairs."
   ]
  },
  {
   "cell_type": "code",
   "execution_count": 4,
   "metadata": {
    "ExecuteTime": {
     "end_time": "2024-04-10T13:43:50.299527900Z",
     "start_time": "2024-04-10T13:43:50.231493Z"
    }
   },
   "outputs": [
    {
     "name": "stdout",
     "output_type": "stream",
     "text": [
      "defaultdict(<class 'float'>, {'Cs': 1.0, 'Pb': 1.0, 'I': 3.0})\n",
      "{'Cs': 0.2, 'Pb': 0.2, 'I': 0.6}\n"
     ]
    }
   ],
   "source": [
    "# Print the composition and the fractional composition\n",
    "print(CsPbI3_magpie.composition)\n",
    "print(CsPbI3_magpie.fractional_composition)"
   ]
  },
  {
   "attachments": {},
   "cell_type": "markdown",
   "metadata": {},
   "source": [
    "Other properties and attributes that can be accessed are the (normalised) stoichiometry represented as a vector.\n"
   ]
  },
  {
   "cell_type": "code",
   "execution_count": 5,
   "metadata": {
    "ExecuteTime": {
     "end_time": "2024-04-10T13:43:50.318038500Z",
     "start_time": "2024-04-10T13:43:50.248490700Z"
    }
   },
   "outputs": [
    {
     "name": "stdout",
     "output_type": "stream",
     "text": [
      "['Cs', 'Pb', 'I']\n",
      "[1. 1. 3.]\n",
      "[0.2 0.2 0.6]\n",
      "5.0\n"
     ]
    }
   ],
   "source": [
    "# Print the list of elements\n",
    "print(CsPbI3_magpie.element_list)\n",
    "# Print the stoichiometric vector\n",
    "print(CsPbI3_magpie.stoich_vector)\n",
    "\n",
    "# Print the normalized stoichiometric vector\n",
    "print(CsPbI3_magpie.norm_stoich_vector)\n",
    "\n",
    "# Print the number of atoms\n",
    "print(CsPbI3_magpie.num_atoms)"
   ]
  },
  {
   "attachments": {},
   "cell_type": "markdown",
   "metadata": {},
   "source": [
    "We can create create compositional-based feature vectors using the `feature_vector` method.\n",
    "```python\n",
    ">>> CsPbI3_magpie.feature_vector()\n",
    "```\n",
    "By default, this will return the weighted average of the elemental embeddings of the composition. This would have the same dimension as the individual elemental embeddings.\n",
    "We can also specify the type of feature vector we want to create by passing the `stats` argument.\n",
    "```python\n",
    ">>> CsPbI3_magpie.feature_vector(stats=['mean', 'variance'])\n",
    "```\n",
    "This would return a feature vector which is the concatenation of the mean and variance of the elemental embeddings of the composition. This would have twice the dimension of the individual elemental embeddings. In general, the dimension of the feature vector is the product of the dimension of the elemental embeddings and the number of statistics requested.\n",
    "\n",
    "The available statistics are:\n",
    "- `mean`\n",
    "- `variance`\n",
    "- `minpool`\n",
    "- `maxpool`\n",
    "- `sum`\n",
    "- `range`\n",
    "- `harmonic_mean`\n",
    "- `geometric_mean`\n",
    "\n"
   ]
  },
  {
   "cell_type": "code",
   "execution_count": 6,
   "metadata": {
    "ExecuteTime": {
     "end_time": "2024-04-10T13:43:50.321038700Z",
     "start_time": "2024-04-10T13:43:50.259499Z"
    }
   },
   "outputs": [
    {
     "name": "stdout",
     "output_type": "stream",
     "text": [
      "[ 59.2         74.8        144.16377238 412.55        13.2\n",
      "   5.4        161.4          2.22         1.8          3.4\n",
      "   8.           2.8         16.           0.2          1.4\n",
      "   0.           0.           1.6         54.584        0.6372\n",
      "   0.         129.2       ]\n"
     ]
    }
   ],
   "source": [
    "# Print the mean feature vector\n",
    "print(CsPbI3_magpie.feature_vector(stats=\"mean\"))"
   ]
  },
  {
   "cell_type": "code",
   "execution_count": 7,
   "metadata": {
    "ExecuteTime": {
     "end_time": "2024-04-10T14:00:36.864604100Z",
     "start_time": "2024-04-10T14:00:36.792600400Z"
    },
    "collapsed": false
   },
   "outputs": [
    {
     "name": "stdout",
     "output_type": "stream",
     "text": [
      "[ 14.          48.          29.22138464 271.235        9.\n",
      "   3.         134.           2.045        1.5          2.5\n",
      "   0.           0.           4.           0.5          0.5\n",
      "   0.           0.           1.          26.87041667   1.2465\n",
      "   0.         146.5       ]\n"
     ]
    }
   ],
   "source": [
    "print(CompositionalEmbedding(formula=\"NaCl\", embedding=\"magpie\").feature_vector())"
   ]
  },
  {
   "cell_type": "code",
   "execution_count": 8,
   "metadata": {
    "ExecuteTime": {
     "end_time": "2024-04-10T13:43:50.484568800Z",
     "start_time": "2024-04-10T13:43:50.273490Z"
    }
   },
   "outputs": [
    {
     "name": "stdout",
     "output_type": "stream",
     "text": [
      "The dimension of the feature vector is 110\n",
      "[  59.2          74.8         144.16377238  412.55         13.2\n",
      "    5.4         161.4           2.22          1.8           3.4\n",
      "    8.            2.8          16.            0.2           1.4\n",
      "    0.            0.            1.6          54.584         0.6372\n",
      "    0.          129.2         130.56       1251.76        998.7932657\n",
      " 9932.03104      38.56          0.24       1713.04          0.52756\n",
      "    0.16          4.24         16.           31.36         74.4\n",
      "    0.16          1.84          0.            0.            1.44\n",
      "  969.102544      0.27068256    0.         6378.16         53.\n",
      "    5.          126.90447     301.59          1.            5.\n",
      "  139.            0.79          1.            0.            0.\n",
      "    0.            1.            0.            0.            0.\n",
      "    0.            1.           28.11          0.            0.\n",
      "   64.           82.           96.          207.2         600.61\n",
      "   17.            6.          244.            2.66          2.\n",
      "    5.           10.           14.           28.            1.\n",
      "    4.            0.            0.            4.          115.765\n",
      "    1.062         0.          229.          296.          374.\n",
      "  720.8188619  2062.75         66.           27.          807.\n",
      "   11.1           9.           17.           40.           14.\n",
      "   80.            1.            7.            0.            0.\n",
      "    8.          272.92          3.186         0.          646.        ]\n"
     ]
    }
   ],
   "source": [
    "# Print the feature vector for the mean, variance, minpool, maxpool, and sum\n",
    "CsPbI3_magpie_cbfv = CsPbI3_magpie.feature_vector(\n",
    "    stats=[\"mean\", \"variance\", \"minpool\", \"maxpool\", \"sum\"]\n",
    ")\n",
    "print(f\"The dimension of the feature vector is {CsPbI3_magpie_cbfv.shape[0]}\")\n",
    "\n",
    "print(CsPbI3_magpie_cbfv)"
   ]
  },
  {
   "attachments": {},
   "cell_type": "markdown",
   "metadata": {},
   "source": [
    "We can also featurise multiple formulas at once using the `composition_featuriser` function.\n",
    "```python\n",
    ">>> composition_featuriser([\"CsPbI3\", \"Fe2O3\", \"NaCl\"], embedding='magpie')\n",
    "```\n",
    "This will return a `numpy` array of the feature vectors of the compositions. The order of the feature vectors will be the same as the order of the formulas in the input list.\n"
   ]
  },
  {
   "cell_type": "code",
   "execution_count": 9,
   "metadata": {
    "ExecuteTime": {
     "end_time": "2024-04-10T13:43:50.511108300Z",
     "start_time": "2024-04-10T13:43:50.292507700Z"
    }
   },
   "outputs": [
    {
     "name": "stderr",
     "output_type": "stream",
     "text": [
      "100%|██████████| 3/3 [00:00<00:00, 13573.80it/s]\n"
     ]
    },
    {
     "data": {
      "text/plain": [
       "[array([ 59.2       ,  74.8       , 144.16377238, 412.55      ,\n",
       "         13.2       ,   5.4       , 161.4       ,   2.22      ,\n",
       "          1.8       ,   3.4       ,   8.        ,   2.8       ,\n",
       "         16.        ,   0.2       ,   1.4       ,   0.        ,\n",
       "          0.        ,   1.6       ,  54.584     ,   0.6372    ,\n",
       "          0.        , 129.2       ]),\n",
       " array([ 15.2       ,  74.2       ,  31.93764   , 757.28      ,\n",
       "         12.8       ,   2.8       ,  92.4       ,   2.796     ,\n",
       "          2.        ,   2.4       ,   2.4       ,   0.        ,\n",
       "          6.8       ,   0.        ,   1.2       ,   1.6       ,\n",
       "          0.        ,   2.8       ,   9.755     ,   0.        ,\n",
       "          0.84426512,  98.8       ]),\n",
       " array([ 14.        ,  48.        ,  29.22138464, 271.235     ,\n",
       "          9.        ,   3.        , 134.        ,   2.045     ,\n",
       "          1.5       ,   2.5       ,   0.        ,   0.        ,\n",
       "          4.        ,   0.5       ,   0.5       ,   0.        ,\n",
       "          0.        ,   1.        ,  26.87041667,   1.2465    ,\n",
       "          0.        , 146.5       ])]"
      ]
     },
     "execution_count": 9,
     "metadata": {},
     "output_type": "execute_result"
    }
   ],
   "source": [
    "formulas = [\"CsPbI3\", \"Fe2O3\", \"NaCl\"]\n",
    "\n",
    "composition_featuriser(formulas, embedding=\"magpie\", stats=\"mean\")"
   ]
  },
  {
   "cell_type": "code",
   "execution_count": 10,
   "metadata": {
    "ExecuteTime": {
     "end_time": "2024-04-10T13:43:50.640635200Z",
     "start_time": "2024-04-10T13:43:50.336039400Z"
    }
   },
   "outputs": [
    {
     "name": "stdout",
     "output_type": "stream",
     "text": [
      "Featurising compositions...\n"
     ]
    },
    {
     "name": "stderr",
     "output_type": "stream",
     "text": [
      "100%|██████████| 3/3 [00:00<00:00, 637.24it/s]\n"
     ]
    },
    {
     "name": "stdout",
     "output_type": "stream",
     "text": [
      "Computing feature vectors...\n"
     ]
    },
    {
     "name": "stderr",
     "output_type": "stream",
     "text": [
      "100%|██████████| 3/3 [00:00<00:00, 45590.26it/s]\n"
     ]
    },
    {
     "data": {
      "text/html": [
       "<div>\n",
       "<style scoped>\n",
       "    .dataframe tbody tr th:only-of-type {\n",
       "        vertical-align: middle;\n",
       "    }\n",
       "\n",
       "    .dataframe tbody tr th {\n",
       "        vertical-align: top;\n",
       "    }\n",
       "\n",
       "    .dataframe thead th {\n",
       "        text-align: right;\n",
       "    }\n",
       "</style>\n",
       "<table border=\"1\" class=\"dataframe\">\n",
       "  <thead>\n",
       "    <tr style=\"text-align: right;\">\n",
       "      <th></th>\n",
       "      <th>formula</th>\n",
       "      <th>mean_Number</th>\n",
       "      <th>mean_MendeleevNumber</th>\n",
       "      <th>mean_AtomicWeight</th>\n",
       "      <th>mean_MeltingT</th>\n",
       "      <th>mean_Column</th>\n",
       "      <th>mean_Row</th>\n",
       "      <th>mean_CovalentRadius</th>\n",
       "      <th>mean_Electronegativity</th>\n",
       "      <th>mean_NsValence</th>\n",
       "      <th>...</th>\n",
       "      <th>sum_NValence</th>\n",
       "      <th>sum_NsUnfilled</th>\n",
       "      <th>sum_NpUnfilled</th>\n",
       "      <th>sum_NdUnfilled</th>\n",
       "      <th>sum_NfUnfilled</th>\n",
       "      <th>sum_NUnfilled</th>\n",
       "      <th>sum_GSvolume_pa</th>\n",
       "      <th>sum_GSbandgap</th>\n",
       "      <th>sum_GSmagmom</th>\n",
       "      <th>sum_SpaceGroupNumber</th>\n",
       "    </tr>\n",
       "  </thead>\n",
       "  <tbody>\n",
       "    <tr>\n",
       "      <th>0</th>\n",
       "      <td>CsPbI3</td>\n",
       "      <td>59.2</td>\n",
       "      <td>74.8</td>\n",
       "      <td>144.163772</td>\n",
       "      <td>412.550</td>\n",
       "      <td>13.2</td>\n",
       "      <td>5.4</td>\n",
       "      <td>161.4</td>\n",
       "      <td>2.220</td>\n",
       "      <td>1.8</td>\n",
       "      <td>...</td>\n",
       "      <td>80.0</td>\n",
       "      <td>1.0</td>\n",
       "      <td>7.0</td>\n",
       "      <td>0.0</td>\n",
       "      <td>0.0</td>\n",
       "      <td>8.0</td>\n",
       "      <td>272.920000</td>\n",
       "      <td>3.186</td>\n",
       "      <td>0.000000</td>\n",
       "      <td>646.0</td>\n",
       "    </tr>\n",
       "    <tr>\n",
       "      <th>1</th>\n",
       "      <td>Fe2O3</td>\n",
       "      <td>15.2</td>\n",
       "      <td>74.2</td>\n",
       "      <td>31.937640</td>\n",
       "      <td>757.280</td>\n",
       "      <td>12.8</td>\n",
       "      <td>2.8</td>\n",
       "      <td>92.4</td>\n",
       "      <td>2.796</td>\n",
       "      <td>2.0</td>\n",
       "      <td>...</td>\n",
       "      <td>34.0</td>\n",
       "      <td>0.0</td>\n",
       "      <td>6.0</td>\n",
       "      <td>8.0</td>\n",
       "      <td>0.0</td>\n",
       "      <td>14.0</td>\n",
       "      <td>48.775000</td>\n",
       "      <td>0.000</td>\n",
       "      <td>4.221326</td>\n",
       "      <td>494.0</td>\n",
       "    </tr>\n",
       "    <tr>\n",
       "      <th>2</th>\n",
       "      <td>NaCl</td>\n",
       "      <td>14.0</td>\n",
       "      <td>48.0</td>\n",
       "      <td>29.221385</td>\n",
       "      <td>271.235</td>\n",
       "      <td>9.0</td>\n",
       "      <td>3.0</td>\n",
       "      <td>134.0</td>\n",
       "      <td>2.045</td>\n",
       "      <td>1.5</td>\n",
       "      <td>...</td>\n",
       "      <td>8.0</td>\n",
       "      <td>1.0</td>\n",
       "      <td>1.0</td>\n",
       "      <td>0.0</td>\n",
       "      <td>0.0</td>\n",
       "      <td>2.0</td>\n",
       "      <td>53.740833</td>\n",
       "      <td>2.493</td>\n",
       "      <td>0.000000</td>\n",
       "      <td>293.0</td>\n",
       "    </tr>\n",
       "  </tbody>\n",
       "</table>\n",
       "<p>3 rows × 45 columns</p>\n",
       "</div>"
      ],
      "text/plain": [
       "  formula  mean_Number  mean_MendeleevNumber  mean_AtomicWeight  \\\n",
       "0  CsPbI3         59.2                  74.8         144.163772   \n",
       "1   Fe2O3         15.2                  74.2          31.937640   \n",
       "2    NaCl         14.0                  48.0          29.221385   \n",
       "\n",
       "   mean_MeltingT  mean_Column  mean_Row  mean_CovalentRadius  \\\n",
       "0        412.550         13.2       5.4                161.4   \n",
       "1        757.280         12.8       2.8                 92.4   \n",
       "2        271.235          9.0       3.0                134.0   \n",
       "\n",
       "   mean_Electronegativity  mean_NsValence  ...  sum_NValence  sum_NsUnfilled  \\\n",
       "0                   2.220             1.8  ...          80.0             1.0   \n",
       "1                   2.796             2.0  ...          34.0             0.0   \n",
       "2                   2.045             1.5  ...           8.0             1.0   \n",
       "\n",
       "   sum_NpUnfilled  sum_NdUnfilled  sum_NfUnfilled  sum_NUnfilled  \\\n",
       "0             7.0             0.0             0.0            8.0   \n",
       "1             6.0             8.0             0.0           14.0   \n",
       "2             1.0             0.0             0.0            2.0   \n",
       "\n",
       "   sum_GSvolume_pa  sum_GSbandgap  sum_GSmagmom  sum_SpaceGroupNumber  \n",
       "0       272.920000          3.186      0.000000                 646.0  \n",
       "1        48.775000          0.000      4.221326                 494.0  \n",
       "2        53.740833          2.493      0.000000                 293.0  \n",
       "\n",
       "[3 rows x 45 columns]"
      ]
     },
     "execution_count": 10,
     "metadata": {},
     "output_type": "execute_result"
    }
   ],
   "source": [
    "df = pd.DataFrame({\"formula\": formulas})\n",
    "composition_featuriser(df, embedding=\"magpie\", stats=[\"mean\", \"sum\"])"
   ]
  },
  {
   "cell_type": "markdown",
   "metadata": {},
   "source": [
    "We can also calculate the \"distance\" between two compositions using their feature vectors. This can be used to determine which compositions are more similar to each other."
   ]
  },
  {
   "cell_type": "code",
   "execution_count": null,
   "metadata": {
    "collapsed": false
   },
   "outputs": [],
   "source": []
  },
  {
   "cell_type": "code",
   "execution_count": 11,
   "metadata": {
    "ExecuteTime": {
     "end_time": "2024-04-10T13:43:50.642632100Z",
     "start_time": "2024-04-10T13:43:50.429571500Z"
    }
   },
   "outputs": [
    {
     "name": "stdout",
     "output_type": "stream",
     "text": [
      "The euclidean distance between CsPbI3 and Fe2O3 is 375.77\n",
      "The euclidean distance between CsPbI3 and NaCl is 194.94\n",
      "The euclidean distance between CsPbI3 and CsPbCl3 is 144.39\n"
     ]
    }
   ],
   "source": [
    "print(\n",
    "    f\"The euclidean distance between CsPbI3 and Fe2O3 is {CsPbI3_magpie.distance('Fe2O3', distance_metric='euclidean', stats='mean'):.2f}\"\n",
    ")\n",
    "print(\n",
    "    f\"The euclidean distance between CsPbI3 and NaCl is {CsPbI3_magpie.distance('NaCl',distance_metric='euclidean', stats='mean'):.2f}\"\n",
    ")\n",
    "print(\n",
    "    f\"The euclidean distance between CsPbI3 and CsPbCl3 is {CsPbI3_magpie.distance('CsPbCl3',distance_metric='euclidean', stats='mean'):.2f}\"\n",
    ")"
   ]
  },
  {
   "cell_type": "markdown",
   "metadata": {},
   "source": [
    "Based on the mean-pooled feature vectors, we can see that CsPbI3 and CsPbBr3 are more similar to each other than CsPbI3 and Fe2O3."
   ]
  }
 ],
 "metadata": {
  "kernelspec": {
   "display_name": "atomic_dev",
   "language": "python",
   "name": "python3"
  },
  "language_info": {
   "codemirror_mode": {
    "name": "ipython",
    "version": 3
   },
   "file_extension": ".py",
   "mimetype": "text/x-python",
   "name": "python",
   "nbconvert_exporter": "python",
   "pygments_lexer": "ipython3",
   "version": "3.10.14"
  },
  "vscode": {
   "interpreter": {
    "hash": "94b27d7815fced387b88df5b0ff93cedd6822b989d46e35c5073559e46421f5f"
   }
  }
 },
 "nbformat": 4,
 "nbformat_minor": 2
}
