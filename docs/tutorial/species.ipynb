{
 "cells": [
  {
   "cell_type": "markdown",
   "metadata": {},
   "source": [
    "# Interacting with ionic species representations using ElementEmbeddings\n",
    "\n",
    "This notebook will serve as a tutorial for using the ElementEmbeddings package to interact with ionic species representations."
   ]
  },
  {
   "cell_type": "code",
   "execution_count": null,
   "metadata": {},
   "outputs": [],
   "source": [
    "from elementembeddings.core import SpeciesEmbedding\n",
    "from elementembeddings.composition import (\n",
    "    SpeciesCompositionalEmbedding,\n",
    "    species_composition_featuriser,\n",
    ")"
   ]
  },
  {
   "cell_type": "markdown",
   "metadata": {},
   "source": [
    "Elements are the building blocks of chemistry, but species (elements in a given charge state) dictate the structure and properties of inorganic compounds. \n",
    "\n",
    "For example, the local spin and atomic environment in Fe(s), FeO, Fe2O3, and Fe3O4 solids are different due to variations in the charge state and coordination of iron.\n",
    "\n",
    "For composition only machine learning, there many representation schemes that enable us to represent compounds as vectors, built on embeddings of elements. However, this may present a limitation when we want to represent ionic species, as the charge state of the element is not taken into account. As such, we need to represent ionic species as vectors.\n",
    "\n",
    "The ElementEmbeddings package contains a set of pre-trained embeddings for elements and ionic species, which can be used to represent ionic species in a vector space.\n",
    "\n",
    "At the time of writing, the 200-dimension SkipSpecies vector embeddings are available for ionic species representations. These embeddings are trained using the Skip-gram model on a large dataset of inorganic compounds."
   ]
  },
  {
   "cell_type": "code",
   "execution_count": null,
   "metadata": {},
   "outputs": [],
   "source": [
    "# Load the SkipSpecies vectors as a SpeciesEmbedding object\n",
    "\n",
    "skipspecies = SpeciesEmbedding.load_data(embedding_name=\"skipspecies\")\n",
    "\n",
    "\n",
    "print(\"Below is the representation of Fe3+ using the SkipSpecies vectors.\")\n",
    "\n",
    "print(skipspecies.embeddings[\"Fe3+\"])"
   ]
  },
  {
   "cell_type": "markdown",
   "metadata": {},
   "source": [
    "We can check the ionic species which have a feature vector for a particular embedding"
   ]
  },
  {
   "cell_type": "code",
   "execution_count": null,
   "metadata": {},
   "outputs": [],
   "source": [
    "print(\"SkipSpecies has feature vectors for the following ionic species:\\n\")\n",
    "print(skipspecies.species_list)"
   ]
  },
  {
   "cell_type": "markdown",
   "metadata": {},
   "source": [
    "We can also check which elements have an ionic species representation in the embedding"
   ]
  },
  {
   "cell_type": "code",
   "execution_count": null,
   "metadata": {},
   "outputs": [],
   "source": [
    "print(\"The folliowing elements have SkipSpecies ionic species representations:\\n\")\n",
    "print(skipspecies.element_list)"
   ]
  },
  {
   "cell_type": "markdown",
   "metadata": {},
   "source": [
    "Like the element representations, BibTex citation information is available for the ionic species embeddings."
   ]
  },
  {
   "cell_type": "code",
   "execution_count": null,
   "metadata": {},
   "outputs": [],
   "source": [
    "print(skipspecies.citation())"
   ]
  },
  {
   "cell_type": "markdown",
   "metadata": {},
   "source": [
    "## Representing ionic compositions using ElementEmbeddings\n",
    "\n",
    "In addition to representing individual ionic species, we can also represent ionic compositions using the ElementEmbeddings package. This is useful for representing inorganic compounds as vectors. Let's take the example of Fe3O4.\n",
    "\n",
    "Fe3O4 is a mixed-valence iron oxide, with a formula unit of Fe3O4. We pass the composition as a dicitionary in the following format:\n",
    "\n",
    "```python\n",
    "composition = {\n",
    "    'Fe2+': 1,\n",
    "    'Fe3+': 2,\n",
    "    'O2-': 4\n",
    "    }\n",
    "```"
   ]
  },
  {
   "cell_type": "code",
   "execution_count": null,
   "metadata": {},
   "outputs": [],
   "source": [
    "composition = {\"Fe2+\": 1, \"Fe3+\": 2, \"O2-\": 4}\n",
    "\n",
    "Fe3O4_skipspecies = SpeciesCompositionalEmbedding(\n",
    "    formula_dict=composition, embedding=skipspecies\n",
    ")"
   ]
  },
  {
   "cell_type": "markdown",
   "metadata": {},
   "source": [
    "A few properties are accessible from the `SpeciesCompositionalEmbedding` class"
   ]
  },
  {
   "cell_type": "code",
   "execution_count": null,
   "metadata": {},
   "outputs": [],
   "source": [
    "# Print the pretty formula\n",
    "\n",
    "print(Fe3O4_skipspecies.formula_pretty)\n",
    "\n",
    "# Print the list of elements in the composition\n",
    "print(Fe3O4_skipspecies.element_list)\n",
    "# Print the list of ionic species in the composition\n",
    "print(Fe3O4_skipspecies.species_list)\n",
    "\n",
    "\n",
    "# Print the stoichiometric vector of the composition\n",
    "print(Fe3O4_skipspecies.stoich_vector)\n",
    "\n",
    "# Print the normalised stoichiometric vector of the composition\n",
    "print(Fe3O4_skipspecies.norm_stoich_vector)\n",
    "\n",
    "# Print the number of atoms\n",
    "print(Fe3O4_skipspecies.num_atoms)"
   ]
  },
  {
   "cell_type": "markdown",
   "metadata": {},
   "source": [
    "### Featurising compositions\n",
    "\n",
    "We can featurise the composition using the `.feature_vector` method. This method returns the feature vector for the composition. This is identical in operation to the `CompositionEmbedding` class for featurising compositions.\n",
    "\n",
    "The `species_composition_featuriser` can be used to featurise a list of compositions. This is useful for featurising a large number of compositions. It can also export the feature vectors to a pandas DataFrame by setting the `to_dataframe` argument to `True`."
   ]
  },
  {
   "cell_type": "code",
   "execution_count": null,
   "metadata": {},
   "outputs": [],
   "source": [
    "compositions = [\n",
    "    {\"Fe2+\": 1, \"Fe3+\": 2, \"O2-\": 4},\n",
    "    {\"Fe3+\": 2, \"O2-\": 3},\n",
    "    {\"Li+\": 7, \"La3+\": 3, \"Zr4+\": 1, \"O2-\": 12},\n",
    "    {\"Cs+\": 1, \"Pb2+\": 1, \"I-\": 3},\n",
    "    {\"Pb2+\": 1, \"Pb4+\": 1, \"O2-\": 3},\n",
    "]\n",
    "\n",
    "featurised_comps_df = species_composition_featuriser(\n",
    "    data=compositions, embedding=\"skipspecies\", stats=\"mean\", to_dataframe=True\n",
    ")\n",
    "\n",
    "featurised_comps_df"
   ]
  },
  {
   "cell_type": "markdown",
   "metadata": {},
   "source": [
    "##\n",
    "We can also calculate the \"distance\" between two compositions using their feature vectors. This can be used to determine which compositions are more similar to each other."
   ]
  },
  {
   "cell_type": "code",
   "execution_count": null,
   "metadata": {},
   "outputs": [],
   "source": [
    "print(\n",
    "    f\"The euclidean distance between Fe3O4 and Fe2O3 is {Fe3O4_skipspecies.distance({'Fe3+': 2, 'O2-': 3}, distance_metric='euclidean', stats='mean'):.2f}\"\n",
    ")\n",
    "print(\n",
    "    f\"The euclidean distance between Fe3O4 and Pb2O3 is {Fe3O4_skipspecies.distance({'Pb2+': 1, 'Pb4+': 1, 'O2-': 3}, distance_metric='euclidean', stats='mean'):.2f}\"\n",
    ")\n",
    "print(\n",
    "    f\"The euclidean distance between Fe3O4 and CsPbI3 is {Fe3O4_skipspecies.distance({'Cs+': 1, 'Pb2+': 1, 'I-': 3},distance_metric='euclidean', stats='mean'):.2f}\"\n",
    ")"
   ]
  },
  {
   "cell_type": "markdown",
   "metadata": {},
   "source": [
    "Based on the mean-pooled feature vectors, we can see that Fe3O4 is closer to Fe2O3 than either Pb2O3 and CsPbI3."
   ]
  }
 ],
 "metadata": {
  "kernelspec": {
   "display_name": "smact_dev",
   "language": "python",
   "name": "python3"
  },
  "language_info": {
   "codemirror_mode": {
    "name": "ipython",
    "version": 3
   },
   "file_extension": ".py",
   "mimetype": "text/x-python",
   "name": "python",
   "nbconvert_exporter": "python",
   "pygments_lexer": "ipython3",
   "version": "3.10.14"
  }
 },
 "nbformat": 4,
 "nbformat_minor": 2
}
